{
 "cells": [
  {
   "cell_type": "code",
   "execution_count": null,
   "id": "73f06aca",
   "metadata": {},
   "outputs": [],
   "source": [
    "# Now let's test the connection\n",
    "from ai21 import AI21Client\n",
    "import os\n",
    "\n",
    "# paste your API key here or set it as an environment variable\n",
    "API_KEY = os.environ.get(\"AI21_API_KEY\")\n",
    "\n",
    "client = AI21Client(api_key=API_KEY)"
   ]
  },
  {
   "cell_type": "markdown",
   "id": "1e6a6948",
   "metadata": {},
   "source": [
    "Let's first upload the attached document to the file library"
   ]
  },
  {
   "cell_type": "code",
   "execution_count": null,
   "id": "c179efe2",
   "metadata": {},
   "outputs": [],
   "source": [
    "client.library.files.create(\"SYSTEM AIR CONDITIONER.pdf\")"
   ]
  },
  {
   "cell_type": "markdown",
   "id": "39f6ce5f",
   "metadata": {},
   "source": [
    "You can check out the File Library in Studio to make sure the file is there. You can also add more files"
   ]
  },
  {
   "cell_type": "markdown",
   "id": "941c645a",
   "metadata": {},
   "source": [
    "Now let's run the following question using Maestro. Note that we will be using Requirements as well in order to get the output we want.\n",
    "Note that we are introducing a new parameters:\n",
    "1. `tools` - The list of tools Maestro will have in its disposal to fulfill the task\n",
    "2. `include` was updated to return the \"data_sources\" - This will make the Run result also contain the Data Sources that were used in order to generate the answer\n",
    "\n",
    "Note:\n",
    "The `budget` field, in addition to the validated output efforts will also affect how Maestro works here in several ways:\n",
    "1. More compute resources will be invested in the task fulfillment strategy, e.g. more steps may run\n",
    "2. More retrieval strategies may be employed in order to get a more relevant context"
   ]
  },
  {
   "cell_type": "code",
   "execution_count": null,
   "id": "772746e9",
   "metadata": {},
   "outputs": [],
   "source": [
    "input = \"\"\"\n",
    "1. After power-up, the display shows Ch and won’t allow operation. Explain the compressor preheating logic (2.5-hour heat, first-install requires 6 hours of power applied), the condition for Ch to clear, and what is or isn’t safe to bypass. Provide a customer-friendly ETA message\n",
    "\n",
    "2. You are an AI assistant helping explain why the display shows Ch after power-up.\n",
    "Using the attached manual, describe the compressor preheating logic, how long it lasts, and when operation becomes available.\n",
    "Include safe advice for the user while waiting. Add a simple “Do / Don’t” list for safe handling.\n",
    "\"\"\"\n",
    "\n",
    "requirements = [\n",
    "    {\n",
    "        \"name\": \"File grounding\",\n",
    "        \"description\": \"Use data from the attached manual; quote code labels and thresholds\",\n",
    "    },\n",
    "    {\n",
    "        \"name\": \"Cause prioritization\",\n",
    "        \"description\": \"If multiple causes are possible, order them by likelihood and cross-check against sensor readings, phase conditions, or other relevant data in the file\",\n",
    "    },\n",
    "    {\n",
    "        \"name\": \"Safety tagging\",\n",
    "        \"description\": \"Flag and clearly label actions restricted to qualified technicians\",\n",
    "    },\n",
    "    {\n",
    "        \"name\": \"Two-layer output\",\n",
    "        \"description\": \"End each response with a plain-language customer summary followed by a detailed technical checklist for field technicians\",\n",
    "    },\n",
    "]\n",
    "\n",
    "run = client.beta.maestro.runs.create_and_poll(\n",
    "    input=input,\n",
    "    requirements=requirements,\n",
    "    budget=\"medium\",\n",
    "    tools=[{\"type\": \"file_search\"}],\n",
    "    include=[\n",
    "        \"requirements_result\",\n",
    "        \"data_sources\",\n",
    "    ],\n",
    ")\n",
    "\n",
    "print(run.id)\n",
    "print(run.result)\n",
    "print(run.requirements_result)\n",
    "print(run.data_sources)\n"
   ]
  }
 ],
 "metadata": {
  "kernelspec": {
   "display_name": ".venv",
   "language": "python",
   "name": "python3"
  },
  "language_info": {
   "codemirror_mode": {
    "name": "ipython",
    "version": 3
   },
   "file_extension": ".py",
   "mimetype": "text/x-python",
   "name": "python",
   "nbconvert_exporter": "python",
   "pygments_lexer": "ipython3",
   "version": "3.12.9"
  }
 },
 "nbformat": 4,
 "nbformat_minor": 5
}
