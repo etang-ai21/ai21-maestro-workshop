{
 "cells": [
  {
   "cell_type": "code",
   "execution_count": null,
   "id": "73f06aca",
   "metadata": {},
   "outputs": [],
   "source": [
    "# Now let's test the connection\n",
    "from ai21 import AI21Client\n",
    "import os\n",
    "\n",
    "# paste your API key here or set it as an environment variable\n",
    "API_KEY = os.environ.get(\"AI21_API_KEY\")\n",
    "\n",
    "client = AI21Client(api_key=API_KEY)"
   ]
  },
  {
   "cell_type": "markdown",
   "id": "1e6a6948",
   "metadata": {},
   "source": [
    "We will now create a Maestro run that uses Requirements\n",
    "\n",
    "Remember Requirements should instruct Maestro how the output should be validated and fixed\n",
    "\n",
    "Example requirements:\n",
    "1. Don't mention anything about the company policy\n",
    "2. Use a clear and formal tone\n",
    "3. If the input contains a root cause analysis, include it"
   ]
  },
  {
   "cell_type": "code",
   "execution_count": null,
   "id": "772746e9",
   "metadata": {},
   "outputs": [],
   "source": [
    "run = client.beta.maestro.runs.create_and_poll(\n",
    "    input=\"Write a product review for a smartphone\",\n",
    "    requirements=[\n",
    "        {\"name\": \"word_count\", \"description\": \"use 200-250 words\"},\n",
    "        {\"name\": \"pros_and_cons\", \"description\": \"Include both pros and cons sections\"},\n",
    "        {\"name\": \"rating\", \"description\": \"End with a 1-5 star rating. For example: (★★★★☆)\"}\n",
    "    ],\n",
    "    budget=\"low\",\n",
    "    include=[\"requirements_result\"],\n",
    ")\n",
    "\n",
    "print(run.status)\n",
    "print(run.result)\n",
    "print(run.requirements_result)\n"
   ]
  },
  {
   "cell_type": "markdown",
   "id": "c2c5563e",
   "metadata": {},
   "source": [
    "As you can see the request included 2 new parameters:\n",
    "1. `budget` - The amount of effort Maestro will use to improve your result. We have 3 budget tiers:\n",
    "    * `low` - Only validates the output and provides a report\n",
    "    * `medium` - Validates and fixes the output\n",
    "    * `high` - Uses more compute for output generation and fixing\n",
    "2. `include` - This field tells Maestro to include certain fields in the output. In our case we included the `requirements_report` so that we can see the requirements scores in the output"
   ]
  },
  {
   "cell_type": "markdown",
   "id": "902c4532",
   "metadata": {},
   "source": [
    "Let's try a different example for text extraction"
   ]
  },
  {
   "cell_type": "code",
   "execution_count": null,
   "id": "2f0d3aa2",
   "metadata": {},
   "outputs": [],
   "source": [
    "input1 = \"\"\"\n",
    "You are an expert in extracting structured information from unstructured text, specifically travel booking conversations.\n",
    "You are given a conversation as plain text between a user and an AI travel agent. Extract and return the following fields:\n",
    "Name: Full name of the traveler\n",
    "HotelName: Name of the hotel selected by the traveler\n",
    "CheckInDate: Check-in date in YYYY-MM-DD format if the date can fully be extracted\n",
    "CheckOutDate: Check-out date in YYYY-MM-DD format if the date can fully be extracted\n",
    "City: City where the hotel is located\n",
    "Country: Country where the hotel is located\n",
    "NumberOfGuests: Total number of guests\n",
    "\n",
    "Requirements:\n",
    "1. Return a bulleted list where each field is a bullet\n",
    "2. If any field is not mentioned or can’t be fully extracted from the conversation, fill it with \"NA\n",
    "3. Do not invent, infer, or assume any details that are not explicitly stated in the conversation.\n",
    "\n",
    "Conversation:\n",
    "User: Hi there! I'm planning a trip to Rome next month and need help booking a hotel.\n",
    "AI: I'd be happy to help! Could you tell me your travel dates and how many people will be staying?\n",
    "User: Sure. I'll be arriving on July 10th and checking out on July 15th. It'll be just me and my wife, so 2 guests.\n",
    "AI: Great. Would you like me to recommend some hotels in Rome, Italy?\n",
    "User: Yes, please.\n",
    "AI: Here are a few options:\n",
    "Hotel Artemide\n",
    "The Rome EDITION\n",
    "Hotel Nazionale\n",
    "Do any of these interest you?\n",
    "User: Hotel Artemide sounds perfect. Let's go with that.\n",
    "AI: Excellent choice! May I have your full name for the reservation?\n",
    "User: It's Jonathan Rivera.\n",
    "AI: Thank you, Jonathan. I've reserved a room at Hotel Artemide in Rome, Italy for 2 guests from July 10 to July 15.\n",
    "\"\"\"\n",
    "\n",
    "run = client.beta.maestro.runs.create_and_poll(\n",
    "    input=input1,\n",
    ")\n",
    "\n",
    "print(run.id)\n",
    "print(run.result)\n",
    "print(run.requirements_result)\n"
   ]
  },
  {
   "cell_type": "markdown",
   "id": "2e8ec983",
   "metadata": {},
   "source": [
    "Uusing MVO"
   ]
  },
  {
   "cell_type": "code",
   "execution_count": null,
   "id": "f83ebcf9",
   "metadata": {},
   "outputs": [],
   "source": [
    "input2 = \"\"\"\n",
    "You are an expert in extracting structured information from unstructured text, specifically travel booking conversations.\n",
    "You are given a conversation as plain text between a user and an AI travel agent. Extract and return the following fields:\n",
    "Name: Full name of the traveler\n",
    "HotelName: Name of the hotel selected by the traveler\n",
    "CheckInDate: Check-in date in YYYY-MM-DD format if the date can fully be extracted\n",
    "CheckOutDate: Check-out date in YYYY-MM-DD format if the date can fully be extracted\n",
    "City: City where the hotel is located\n",
    "Country: Country where the hotel is located\n",
    "NumberOfGuests: Total number of guests\n",
    "\n",
    "Conversation:\n",
    "User: Hi there! I'm planning a trip to Rome next month and need help booking a hotel.\n",
    "AI: I'd be happy to help! Could you tell me your travel dates and how many people will be staying?\n",
    "User: Sure. I'll be arriving on July 10th and checking out on July 15th. It'll be just me and my wife, so 2 guests.\n",
    "AI: Great. Would you like me to recommend some hotels in Rome, Italy?\n",
    "User: Yes, please.\n",
    "AI: Here are a few options:\n",
    "Hotel Artemide\n",
    "The Rome EDITION\n",
    "Hotel Nazionale\n",
    "Do any of these interest you?\n",
    "User: Hotel Artemide sounds perfect. Let's go with that.\n",
    "AI: Excellent choice! May I have your full name for the reservation?\n",
    "User: It's Jonathan Rivera.\n",
    "AI: Thank you, Jonathan. I've reserved a room at Hotel Artemide in Rome, Italy for 2 guests from July 10 to July 15.\n",
    "\"\"\"\n",
    "\n",
    "\"\"\"\n",
    "\n",
    "Do not invent, infer, or assume any details that are not explicitly stated in the conversation.\n",
    "return a bulleted list where each field is a bullet\n",
    "\"\"\"\n",
    "\n",
    "requirements = [\n",
    "    {\"name\": \"NA\", \"description\": \"If any field is not mentioned or can’t be fully extracted from the conversation, fill it with 'NA'\"},\n",
    "    {\"name\": \"Do not invent\", \"description\": \"Do not invent, infer, or assume any details that are not explicitly stated in the conversation.\"},\n",
    "    {\"name\": \"bulleted list\", \"description\": \"return a bulleted list where each field is a bullet\"},\n",
    "]\n",
    "\n",
    "run = client.beta.maestro.runs.create_and_poll(\n",
    "    input=input2,\n",
    "    requirements=requirements,\n",
    "    budget=\"medium\",\n",
    "    include=[\"requirements_result\"],\n",
    ")\n",
    "\n",
    "print(run.id)\n",
    "print(run.result)\n",
    "print(run.requirements_result)"
   ]
  }
 ],
 "metadata": {
  "kernelspec": {
   "display_name": ".venv",
   "language": "python",
   "name": "python3"
  },
  "language_info": {
   "codemirror_mode": {
    "name": "ipython",
    "version": 3
   },
   "file_extension": ".py",
   "mimetype": "text/x-python",
   "name": "python",
   "nbconvert_exporter": "python",
   "pygments_lexer": "ipython3",
   "version": "3.12.9"
  }
 },
 "nbformat": 4,
 "nbformat_minor": 5
}
