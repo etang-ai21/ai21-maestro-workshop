{
 "cells": [
  {
   "cell_type": "code",
   "execution_count": null,
   "id": "73f06aca",
   "metadata": {},
   "outputs": [],
   "source": [
    "# Now let's test the connection\n",
    "from ai21 import AI21Client\n",
    "import os\n",
    "\n",
    "# paste your API key here or set it as an environment variable\n",
    "API_KEY = os.environ.get(\"AI21_API_KEY\")\n",
    "\n",
    "# Make sure the API key is set\n",
    "print(API_KEY)\n",
    "client = AI21Client(api_key=API_KEY)"
   ]
  },
  {
   "cell_type": "markdown",
   "id": "1e6a6948",
   "metadata": {},
   "source": [
    "We will now create a Maestro run "
   ]
  }
 ],
 "metadata": {
  "language_info": {
   "name": "python"
  }
 },
 "nbformat": 4,
 "nbformat_minor": 5
}
