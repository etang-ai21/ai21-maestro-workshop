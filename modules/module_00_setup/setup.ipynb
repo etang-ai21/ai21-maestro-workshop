{
 "cells": [
  {
   "cell_type": "markdown",
   "id": "1e6a6948",
   "metadata": {},
   "source": [
    "## Make sure you have access to AI21 API\n",
    "### Environment Variables\n",
    "1. Set in your environment the value for `AI21_API_KEY`. This should be procured from the AI21 Studio\n",
    "2. Set in your environment the value for `AI21_API_HOST`. This should route requests to the API address set up in your organization. "
   ]
  },
  {
   "cell_type": "code",
   "execution_count": null,
   "id": "73f06aca",
   "metadata": {},
   "outputs": [],
   "source": [
    "# Now let's test the connection\n",
    "from ai21 import AI21Client\n",
    "import os\n",
    "\n",
    "# paste your API key here or set it as an environment variable\n",
    "API_KEY = os.environ.get(\"AI21_API_KEY\")\n",
    "\n",
    "# Make sure the API key is set\n",
    "print(API_KEY)\n",
    "client = AI21Client(api_key=API_KEY)"
   ]
  },
  {
   "cell_type": "markdown",
   "id": "0579daa9",
   "metadata": {},
   "source": [
    "## Creating your first run\n",
    "\n",
    "We will now create a Maestro Run.\n",
    "Maestro's API is an Asynchronous API by it's nature. Meaning that creating a run API call would immediately return, but it doesn't mean that the execution is finished.\n",
    "When you create a Run you recieve a Run object as a response.\n",
    "Every Run has the following fields:\n",
    "1. `id` - A unique id of the run\n",
    "2. `status` - \"in_progress\" | \"failed\" | \"completed\"\n",
    "3. `result` - Once the Run is completed successfully this field will store your result\n",
    "4. `error` - If the Run fails, you'll get an error object describing why the run failed\n",
    "\n",
    "A Run also has 2 additional optional fields: `requirements_result` and `data_sources` which we will touch in the next modules"
   ]
  },
  {
   "cell_type": "code",
   "execution_count": null,
   "id": "c3ca6764",
   "metadata": {},
   "outputs": [],
   "source": [
    "client.beta.maestro.runs.create_and_poll(\n",
    "    input=[{\"role\": \"user\", \"content\": \"Hello, world!\"}],\n",
    ")"
   ]
  }
 ],
 "metadata": {
  "kernelspec": {
   "display_name": ".venv",
   "language": "python",
   "name": "python3"
  },
  "language_info": {
   "codemirror_mode": {
    "name": "ipython",
    "version": 3
   },
   "file_extension": ".py",
   "mimetype": "text/x-python",
   "name": "python",
   "nbconvert_exporter": "python",
   "pygments_lexer": "ipython3",
   "version": "3.12.9"
  }
 },
 "nbformat": 4,
 "nbformat_minor": 5
}
