{
 "cells": [
  {
   "cell_type": "markdown",
   "id": "ac27724d",
   "metadata": {},
   "source": [
    "# Intro\n",
    "In this module we will create a remote MCP server that represents an employee management system.\n",
    "1. You will first run the server\n",
    "2. You will serve it with a global URL using ngrok\n",
    "3. You will run queries to the server using Maestro"
   ]
  },
  {
   "cell_type": "markdown",
   "id": "31a4f32d",
   "metadata": {},
   "source": [
    "## Start the Employees MCP server"
   ]
  },
  {
   "cell_type": "code",
   "execution_count": null,
   "id": "099fb7e5",
   "metadata": {},
   "outputs": [],
   "source": [
    "import subprocess\n",
    "import time\n",
    "\n",
    "# Global variable to track the server process\n",
    "server_process = None\n",
    "\n",
    "def start_mcp_server():\n",
    "    \"\"\"Start the MCP server as a subprocess\"\"\"\n",
    "    global server_process\n",
    "    \n",
    "    if server_process and server_process.poll() is None:\n",
    "        print(\"⚠️  Server already running\")\n",
    "        return\n",
    "    \n",
    "    server_process = subprocess.Popen(\n",
    "        [\"python\", \"mcp_server.py\"],\n",
    "        stdout=subprocess.PIPE,\n",
    "        stderr=subprocess.PIPE\n",
    "    )\n",
    "    time.sleep(2)  # Give server time to start\n",
    "    \n",
    "    # Check if server started successfully\n",
    "    if server_process.poll() is None:\n",
    "        print(\"✓ MCP Server running on http://localhost:8000/mcp\")\n",
    "    else:\n",
    "        print(\"❌ Server failed to start\")\n",
    "        stdout, stderr = server_process.communicate()\n",
    "        print(f\"Error: {stderr.decode()}\")\n",
    "\n",
    "def stop_mcp_server():\n",
    "    \"\"\"Stop the MCP server\"\"\"\n",
    "    global server_process\n",
    "    \n",
    "    if not server_process or server_process.poll() is not None:\n",
    "        print(\"⚠️  Server not running\")\n",
    "        return\n",
    "    \n",
    "    server_process.terminate()\n",
    "    try:\n",
    "        server_process.wait(timeout=5)\n",
    "        print(\"✓ MCP Server stopped\")\n",
    "    except subprocess.TimeoutExpired:\n",
    "        server_process.kill()\n",
    "        server_process.wait()\n",
    "        print(\"✓ MCP Server force stopped\")\n",
    "    \n",
    "    server_process = None\n",
    "\n",
    "# Start the server\n",
    "start_mcp_server()"
   ]
  },
  {
   "cell_type": "markdown",
   "id": "da1cbfda",
   "metadata": {},
   "source": [
    "(Optional) If you want to terminate the MCP server you can use the following utility or terminate the Jupyter kernel"
   ]
  },
  {
   "cell_type": "code",
   "execution_count": null,
   "id": "a5fd8f92",
   "metadata": {},
   "outputs": [],
   "source": [
    "stop_mcp_server()"
   ]
  },
  {
   "cell_type": "markdown",
   "id": "39bc6c1c",
   "metadata": {},
   "source": [
    "## Install ngrok to make the server accessible from the web\n",
    "\n",
    "1. Create a [free account](https://dashboard.ngrok.com/signup)\n",
    "2. Install [ngrok](https://ngrok.com/download/mac-os)\n",
    "3. Follow the authentication instructions by running:\n",
    "```sh\n",
    "ngrok config add-authtoken <your token>\n",
    "```\n",
    "\n",
    "4. in the command line run:\n",
    "`ngrok http 8000`\n",
    "5. You’ll get a publicly accessible URL like: https://abc123.ngrok-free.app\n",
    "\n",
    "Important: Save this URL, you’ll need it for AI21 Maestro integration"
   ]
  },
  {
   "cell_type": "code",
   "execution_count": null,
   "id": "73f06aca",
   "metadata": {},
   "outputs": [],
   "source": [
    "# Now let's test the connection\n",
    "from ai21 import AI21Client\n",
    "import os\n",
    "\n",
    "# paste your API key here or set it as an environment variable\n",
    "API_KEY = os.environ.get(\"AI21_API_KEY\")\n",
    "\n",
    "client = AI21Client(api_key=API_KEY)"
   ]
  },
  {
   "cell_type": "code",
   "execution_count": null,
   "id": "024eaa40",
   "metadata": {},
   "outputs": [],
   "source": [
    "run = client.beta.maestro.runs.create_and_poll(\n",
    "    input=\"What is the salary of employee EMP001?\",\n",
    "    tools=[\n",
    "        {\n",
    "            \"type\": \"mcp\",\n",
    "            \"server_url\": \"https://<ngrok-id>.ngrok-free.app/mcp\", # change this to your ngrok URL\n",
    "            \"server_label\": \"Employees\",\n",
    "        },\n",
    "    ],\n",
    "    budget=\"medium\",\n",
    ")\n",
    "\n",
    "print(\"id:\", run.id)\n",
    "print(\"Status:\", run.status)\n",
    "print(\"Result:\", run.result)"
   ]
  },
  {
   "cell_type": "markdown",
   "id": "16ffc8d5",
   "metadata": {},
   "source": [
    "## Next steps:\n",
    "* Review the run in the traces page\n",
    "* Run more questions like:\n",
    "  * What is the salary of employee EMP001?\n",
    "  * Show me all employees in the Engineering department\n",
    "  * Who reports to EMP005?\n",
    "  * What are the department statistics?\n",
    "* Use requirements"
   ]
  },
  {
   "cell_type": "markdown",
   "id": "c6a7a7e9",
   "metadata": {},
   "source": []
  }
 ],
 "metadata": {
  "kernelspec": {
   "display_name": ".venv",
   "language": "python",
   "name": "python3"
  },
  "language_info": {
   "codemirror_mode": {
    "name": "ipython",
    "version": 3
   },
   "file_extension": ".py",
   "mimetype": "text/x-python",
   "name": "python",
   "nbconvert_exporter": "python",
   "pygments_lexer": "ipython3",
   "version": "3.12.9"
  }
 },
 "nbformat": 4,
 "nbformat_minor": 5
}
